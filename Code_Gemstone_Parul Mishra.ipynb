{
 "cells": [
  {
   "cell_type": "code",
   "execution_count": 1,
   "id": "60f65984",
   "metadata": {},
   "outputs": [
    {
     "name": "stdout",
     "output_type": "stream",
     "text": [
      "Defaulting to user installation because normal site-packages is not writeable\n",
      "Requirement already satisfied: openai==0.28 in c:\\users\\parul\\appdata\\roaming\\python\\python39\\site-packages (0.28.0)\n",
      "Requirement already satisfied: aiohttp in c:\\programdata\\anaconda3\\lib\\site-packages (from openai==0.28) (3.8.1)\n",
      "Requirement already satisfied: requests>=2.20 in c:\\programdata\\anaconda3\\lib\\site-packages (from openai==0.28) (2.27.1)\n",
      "Requirement already satisfied: tqdm in c:\\programdata\\anaconda3\\lib\\site-packages (from openai==0.28) (4.64.0)\n",
      "Requirement already satisfied: charset-normalizer~=2.0.0 in c:\\programdata\\anaconda3\\lib\\site-packages (from requests>=2.20->openai==0.28) (2.0.4)\n",
      "Requirement already satisfied: certifi>=2017.4.17 in c:\\programdata\\anaconda3\\lib\\site-packages (from requests>=2.20->openai==0.28) (2021.10.8)\n",
      "Requirement already satisfied: idna<4,>=2.5 in c:\\programdata\\anaconda3\\lib\\site-packages (from requests>=2.20->openai==0.28) (3.3)\n",
      "Requirement already satisfied: urllib3<1.27,>=1.21.1 in c:\\programdata\\anaconda3\\lib\\site-packages (from requests>=2.20->openai==0.28) (1.26.9)\n",
      "Requirement already satisfied: multidict<7.0,>=4.5 in c:\\programdata\\anaconda3\\lib\\site-packages (from aiohttp->openai==0.28) (5.1.0)\n",
      "Requirement already satisfied: yarl<2.0,>=1.0 in c:\\programdata\\anaconda3\\lib\\site-packages (from aiohttp->openai==0.28) (1.6.3)\n",
      "Requirement already satisfied: frozenlist>=1.1.1 in c:\\programdata\\anaconda3\\lib\\site-packages (from aiohttp->openai==0.28) (1.2.0)\n",
      "Requirement already satisfied: async-timeout<5.0,>=4.0.0a3 in c:\\programdata\\anaconda3\\lib\\site-packages (from aiohttp->openai==0.28) (4.0.1)\n",
      "Requirement already satisfied: aiosignal>=1.1.2 in c:\\programdata\\anaconda3\\lib\\site-packages (from aiohttp->openai==0.28) (1.2.0)\n",
      "Requirement already satisfied: attrs>=17.3.0 in c:\\programdata\\anaconda3\\lib\\site-packages (from aiohttp->openai==0.28) (21.4.0)\n",
      "Requirement already satisfied: typing-extensions>=3.6.5 in c:\\programdata\\anaconda3\\lib\\site-packages (from async-timeout<5.0,>=4.0.0a3->aiohttp->openai==0.28) (4.1.1)\n",
      "Requirement already satisfied: colorama in c:\\programdata\\anaconda3\\lib\\site-packages (from tqdm->openai==0.28) (0.4.4)\n"
     ]
    }
   ],
   "source": [
    "!pip install openai==0.28"
   ]
  },
  {
   "cell_type": "markdown",
   "id": "ea5c491d",
   "metadata": {},
   "source": [
    "Loading the Gemstone Database\n"
   ]
  },
  {
   "cell_type": "code",
   "execution_count": null,
   "id": "e3e720fc",
   "metadata": {},
   "outputs": [],
   "source": [
    "import pandas as pd\n",
    "gemstone_df = pd.read_csv(r'C:\\Users\\parul\\OneDrive\\Documents\\GenAI\\ShopAssist AI\\Project_BYOP\\GemstonesRecommendation.csv')\n",
    "gemstone_df.head()"
   ]
  },
  {
   "cell_type": "code",
   "execution_count": 10,
   "id": "804ae275",
   "metadata": {},
   "outputs": [],
   "source": [
    "import os,json,ast\n",
    "import openai\n",
    "import pandas as pd"
   ]
  },
  {
   "cell_type": "code",
   "execution_count": 11,
   "id": "434f115d",
   "metadata": {},
   "outputs": [],
   "source": [
    "openai.api_key = open(\"api_key.txt\", \"r\").read().strip()\n"
   ]
  },
  {
   "cell_type": "markdown",
   "id": "b74c0bdb",
   "metadata": {},
   "source": [
    "Implementing Intent Clarity and Intent Confirmation Layers"
   ]
  },
  {
   "cell_type": "code",
   "execution_count": 12,
   "id": "cec9186e",
   "metadata": {},
   "outputs": [],
   "source": [
    "def initialize_conversation():\n",
    "    '''\n",
    "    Returns a list [{\"role\": \"system\", \"content\": system_message}]\n",
    "    '''\n",
    "\n",
    "    delimiter = \"####\"\n",
    "    example_user_req = {'Rashi': 'Aries','Gender': 'Male','Age': '25','Color':'Green','Lifestyle':'Active','Budget': '6000'}\n",
    "\n",
    "    system_message = f\"\"\"\n",
    "\n",
    "    You are an expert sales person and your goal is to find the best gemstone for a user.\n",
    "    You need to ask relevant questions and understand the user profile by analysing the user's responses.\n",
    "    You final objective is to fill the values for the different keys ('Rashi','Gender','Age','Color','Lifestyle',Budget') in the python dictionary and be confident of the values.\n",
    "    These key value pairs define the user's profile.\n",
    "    The python dictionary looks like this {{'Rashi': 'values','Gender': 'values','Age': 'values','Color':'values','Lifestyle':'values','Budget': 'values'}}\n",
    "    The values for all keys, except 'budget', should be 'low', 'medium', or 'high' based on the importance of the corresponding keys, as stated by user.\n",
    "    The value for 'budget' should be a numerical value extracted from the user's response.\n",
    "    The values currently in the dictionary are only representative values.\n",
    "\n",
    "    {delimiter}Here are some instructions around the values for the different keys. If you do not follow this, you'll be heavily penalised.\n",
    "    - The values for all keys, except 'Budget', should strictly be either 'low', 'medium', or 'high' based on the importance of the corresponding keys, as stated by user.\n",
    "    - The value for 'budget' should be a numerical value extracted from the user's response.\n",
    "    - 'Budget' value needs to be greater than or equal to 2000 $. If the user says less than that, please mention that there are no gemstones in that range.\n",
    "    - Do not randomly assign values to any of the keys. The values need to be inferred from the user's response.\n",
    "    {delimiter}\n",
    "\n",
    "    To fill the dictionary, you need to have the following chain of thoughts:\n",
    "    {delimiter} Thought 1: Ask a question to understand the user's profile and requirements. \\n\n",
    "    If their primary use for the gemstone is unclear. Ask another question to comprehend their needs.\n",
    "    You are trying to fill the values of all the keys ('Rashi','Gender','Age','Color','Lifestyle',Budget') in the python dictionary by understanding the user requirements.\n",
    "    Identify the keys for which you can fill the values confidently using the understanding. \\n\n",
    "    Remember the instructions around the values for the different keys.\n",
    "    Answer \"Yes\" or \"No\" to indicate if you understand the requirements and have updated the values for the relevant keys. \\n\n",
    "    If yes, proceed to the next step. Otherwise, rephrase the question to capture their profile. \\n{delimiter}\n",
    "\n",
    "    {delimiter}Thought 2: Now, you are trying to fill the values for the rest of the keys which you couldn't in the previous step.\n",
    "    Remember the instructions around the values for the different keys. Ask questions you might have for all the keys to strengthen your understanding of the user's profile.\n",
    "    Answer \"Yes\" or \"No\" to indicate if you understood all the values for the keys and are confident about the same.\n",
    "    If yes, move to the next Thought. If no, ask question on the keys whose values you are unsure of. \\n\n",
    "    It is a good practice to ask question with a sound logic as opposed to directly citing the key you want to understand value for.{delimiter}\n",
    "\n",
    "    {delimiter}Thought 3: Check if you have correctly updated the values for the different keys in the python dictionary.\n",
    "    If you are not confident about any of the values, ask clarifying questions. {delimiter}\n",
    "\n",
    "    Follow the above chain of thoughts and only output the final updated python dictionary. \\n\n",
    "\n",
    "\n",
    "    {delimiter} Here is a sample conversation between the user and assistant:\n",
    "    User: \"Hi, I'm interested in getting a gemstone. Can you help me find the right one?\"\n",
    "    Assistant: \"Of course! I'd be happy to help you find the perfect gemstone. To get started, could you please provide me with some information? For example, do you have a specific Rashi or color in mind?\"\n",
    "    User: \" Well, I'm a Taurus, and I've always liked the color green. Any recommendations?\"\n",
    "    Assistant: \"Could you kindly let me know your budget for the gemstone? This will help me find options that fit within your price range while meeting the specified requirements.\"\n",
    "    User: \"I'm looking to spend between $5000 and $7000.\"\"\n",
    "    Assistant: \"{example_user_req}\"\n",
    "    {delimiter}\n",
    "\n",
    "    Start with a short welcome message and encourage the user to share their requirements.\n",
    "    \"\"\"\n",
    "    conversation = [{\"role\": \"system\", \"content\": system_message}]\n",
    "    return conversation"
   ]
  },
  {
   "cell_type": "code",
   "execution_count": 13,
   "id": "2e3c9eff",
   "metadata": {},
   "outputs": [
    {
     "name": "stdout",
     "output_type": "stream",
     "text": [
      "[{'role': 'system', 'content': '\\n\\n    You are an expert sales person and your goal is to find the best gemstone for a user.\\n    You need to ask relevant questions and understand the user profile by analysing the user\\'s responses.\\n    You final objective is to fill the values for the different keys (\\'Rashi\\',\\'Gender\\',\\'Age\\',\\'Color\\',\\'Lifestyle\\',Budget\\') in the python dictionary and be confident of the values.\\n    These key value pairs define the user\\'s profile.\\n    The python dictionary looks like this {\\'Rashi\\': \\'values\\',\\'Gender\\': \\'values\\',\\'Age\\': \\'values\\',\\'Color\\':\\'values\\',\\'Lifestyle\\':\\'values\\',\\'Budget\\': \\'values\\'}\\n    The values for all keys, except \\'budget\\', should be \\'low\\', \\'medium\\', or \\'high\\' based on the importance of the corresponding keys, as stated by user.\\n    The value for \\'budget\\' should be a numerical value extracted from the user\\'s response.\\n    The values currently in the dictionary are only representative values.\\n\\n    ####Here are some instructions around the values for the different keys. If you do not follow this, you\\'ll be heavily penalised.\\n    - The values for all keys, except \\'Budget\\', should strictly be either \\'low\\', \\'medium\\', or \\'high\\' based on the importance of the corresponding keys, as stated by user.\\n    - The value for \\'budget\\' should be a numerical value extracted from the user\\'s response.\\n    - \\'Budget\\' value needs to be greater than or equal to 2000 $. If the user says less than that, please mention that there are no gemstones in that range.\\n    - Do not randomly assign values to any of the keys. The values need to be inferred from the user\\'s response.\\n    ####\\n\\n    To fill the dictionary, you need to have the following chain of thoughts:\\n    #### Thought 1: Ask a question to understand the user\\'s profile and requirements. \\n\\n    If their primary use for the gemstone is unclear. Ask another question to comprehend their needs.\\n    You are trying to fill the values of all the keys (\\'Rashi\\',\\'Gender\\',\\'Age\\',\\'Color\\',\\'Lifestyle\\',Budget\\') in the python dictionary by understanding the user requirements.\\n    Identify the keys for which you can fill the values confidently using the understanding. \\n\\n    Remember the instructions around the values for the different keys.\\n    Answer \"Yes\" or \"No\" to indicate if you understand the requirements and have updated the values for the relevant keys. \\n\\n    If yes, proceed to the next step. Otherwise, rephrase the question to capture their profile. \\n####\\n\\n    ####Thought 2: Now, you are trying to fill the values for the rest of the keys which you couldn\\'t in the previous step.\\n    Remember the instructions around the values for the different keys. Ask questions you might have for all the keys to strengthen your understanding of the user\\'s profile.\\n    Answer \"Yes\" or \"No\" to indicate if you understood all the values for the keys and are confident about the same.\\n    If yes, move to the next Thought. If no, ask question on the keys whose values you are unsure of. \\n\\n    It is a good practice to ask question with a sound logic as opposed to directly citing the key you want to understand value for.####\\n\\n    ####Thought 3: Check if you have correctly updated the values for the different keys in the python dictionary.\\n    If you are not confident about any of the values, ask clarifying questions. ####\\n\\n    Follow the above chain of thoughts and only output the final updated python dictionary. \\n\\n\\n\\n    #### Here is a sample conversation between the user and assistant:\\n    User: \"Hi, I\\'m interested in getting a gemstone. Can you help me find the right one?\"\\n    Assistant: \"Of course! I\\'d be happy to help you find the perfect gemstone. To get started, could you please provide me with some information? For example, do you have a specific Rashi or color in mind?\"\\n    User: \" Well, I\\'m a Taurus, and I\\'ve always liked the color green. Any recommendations?\"\\n    Assistant: \"Could you kindly let me know your budget for the gemstone? This will help me find options that fit within your price range while meeting the specified requirements.\"\\n    User: \"I\\'m looking to spend between $5000 and $7000.\"\"\\n    Assistant: \"{\\'Rashi\\': \\'Aries\\', \\'Gender\\': \\'Male\\', \\'Age\\': \\'25\\', \\'Color\\': \\'Green\\', \\'Lifestyle\\': \\'Active\\', \\'Budget\\': \\'6000\\'}\"\\n    ####\\n\\n    Start with a short welcome message and encourage the user to share their requirements.\\n    '}]\n"
     ]
    }
   ],
   "source": [
    "debug_conversation = initialize_conversation()\n",
    "print(debug_conversation)"
   ]
  },
  {
   "cell_type": "code",
   "execution_count": 14,
   "id": "56c1b80c",
   "metadata": {},
   "outputs": [],
   "source": [
    "def get_chat_model_completions(messages):\n",
    "    response = openai.ChatCompletion.create(\n",
    "        model=\"gpt-3.5-turbo\",\n",
    "        messages=messages,\n",
    "        temperature=0, \n",
    "    )\n",
    "    return response.choices[0].message[\"content\"]"
   ]
  },
  {
   "cell_type": "code",
   "execution_count": 15,
   "id": "89466d53",
   "metadata": {},
   "outputs": [
    {
     "name": "stdout",
     "output_type": "stream",
     "text": [
      "Assistant: \"Hello! Welcome to our gemstone store. I'm here to help you find the perfect gemstone. Could you please provide me with some information about your requirements? For example, do you have a specific Rashi or color in mind?\"\n"
     ]
    }
   ],
   "source": [
    "debug_introduction = get_chat_model_completions(debug_conversation)\n",
    "print(debug_introduction)"
   ]
  },
  {
   "cell_type": "code",
   "execution_count": 16,
   "id": "1fcc52e1",
   "metadata": {},
   "outputs": [],
   "source": [
    "debug_user_input = \"Hi, I am Ashish. I am looking for a unique gemstone.\""
   ]
  },
  {
   "cell_type": "code",
   "execution_count": 17,
   "id": "c1cc09c0",
   "metadata": {},
   "outputs": [
    {
     "name": "stdout",
     "output_type": "stream",
     "text": [
      "Of course, Ashish! I'd be happy to help you find the perfect gemstone. To get started, could you please provide me with some information? For example, do you have a specific Rashi or color in mind?\n"
     ]
    }
   ],
   "source": [
    "debug_conversation.append({\"role\": \"user\", \"content\": debug_user_input})\n",
    "debug_response_assistant = get_chat_model_completions(debug_conversation)\n",
    "print(debug_response_assistant)"
   ]
  },
  {
   "cell_type": "code",
   "execution_count": 18,
   "id": "158886fc",
   "metadata": {},
   "outputs": [],
   "source": [
    "def moderation_check(user_input):\n",
    "    response = openai.Moderation.create(input=user_input)\n",
    "    moderation_output = response[\"results\"][0]\n",
    "    if moderation_output[\"flagged\"] == True:\n",
    "        return \"Flagged\"\n",
    "    else:\n",
    "        return \"Not Flagged\""
   ]
  },
  {
   "cell_type": "code",
   "execution_count": 19,
   "id": "5397de71",
   "metadata": {},
   "outputs": [
    {
     "name": "stdout",
     "output_type": "stream",
     "text": [
      "Not Flagged\n"
     ]
    }
   ],
   "source": [
    "debug_moderation = moderation_check(debug_user_input)\n",
    "print(debug_moderation)"
   ]
  },
  {
   "cell_type": "code",
   "execution_count": 20,
   "id": "a99f9a2f",
   "metadata": {},
   "outputs": [
    {
     "name": "stdout",
     "output_type": "stream",
     "text": [
      "Flagged\n",
      "Not Flagged\n"
     ]
    }
   ],
   "source": [
    "print(moderation_check(\"I want to kill you.\"))\n",
    "print(moderation_check(\"I need a gemstone for smuggling.\"))"
   ]
  },
  {
   "cell_type": "code",
   "execution_count": 21,
   "id": "f6b675ff",
   "metadata": {},
   "outputs": [
    {
     "data": {
      "text/plain": [
       "'Not Flagged'"
      ]
     },
     "execution_count": 21,
     "metadata": {},
     "output_type": "execute_result"
    }
   ],
   "source": [
    "moderation_check(debug_response_assistant)"
   ]
  },
  {
   "cell_type": "code",
   "execution_count": 24,
   "id": "5249c17d",
   "metadata": {},
   "outputs": [],
   "source": [
    "def intent_confirmation_layer(response_assistant):\n",
    "    delimiter = \"####\"\n",
    "    prompt = f\"\"\"\n",
    "    You are a senior Sales manager who has an eye for detail.\n",
    "    You are provided an input. You need to evaluate if the input has the following keys: 'Rashi','Gender','Age','Color','Lifestyle',Budget'\n",
    "    Next you need to evaluate if the keys have the the values filled correctly.\n",
    "    The values for all keys, except 'budget', should be 'low', 'medium', or 'high' based on the importance as stated by user. The value for the key 'budget' needs to contain a number with currency.\n",
    "    Output a string 'Yes' if the input contains the dictionary with the values correctly filled for all keys.\n",
    "    Otherwise out the string 'No'.\n",
    "\n",
    "    Here is the input: {response_assistant}\n",
    "    Only output a one-word string - Yes/No.\n",
    "    \"\"\"\n",
    "\n",
    "\n",
    "    confirmation = openai.Completion.create(\n",
    "                                    model=\"gpt-3.5-turbo-instruct\",\n",
    "                                    prompt = prompt,\n",
    "                                    temperature=0)\n",
    "\n",
    "\n",
    "    return confirmation[\"choices\"][0][\"text\"]"
   ]
  },
  {
   "cell_type": "code",
   "execution_count": 25,
   "id": "f904fdde",
   "metadata": {},
   "outputs": [
    {
     "name": "stdout",
     "output_type": "stream",
     "text": [
      "\n",
      "No\n"
     ]
    }
   ],
   "source": [
    "debug_confirmation = intent_confirmation_layer(debug_response_assistant)\n",
    "print(debug_confirmation)"
   ]
  },
  {
   "cell_type": "code",
   "execution_count": 31,
   "id": "913dd1c8",
   "metadata": {},
   "outputs": [],
   "source": [
    "debug_conversation.append({\"role\": \"assistant\", \"content\": debug_response_assistant})"
   ]
  },
  {
   "cell_type": "code",
   "execution_count": 32,
   "id": "a3b842c5",
   "metadata": {},
   "outputs": [],
   "source": [
    "debug_response_assistant_n = f\"\"\"\n",
    "\n",
    "Based on the information you have provided, I have updated the values in the dictionary as follows:\n",
    "{{'Rashi': 'high','Gender': 'low','Age': 'high','Color':'high','Lifestyle':'low','Budget': '5000'}}\n",
    "\n",
    "Please note that the values for 'Gender' and 'Lifestyle' is set to 'low' since they are not a priority for your task.\n",
    "\n",
    "Is there anything else I can assist you with?\n",
    "\"\"\""
   ]
  },
  {
   "cell_type": "code",
   "execution_count": 33,
   "id": "f984b61c",
   "metadata": {},
   "outputs": [
    {
     "data": {
      "text/plain": [
       "'\\nYes'"
      ]
     },
     "execution_count": 33,
     "metadata": {},
     "output_type": "execute_result"
    }
   ],
   "source": [
    "intent_confirmation_layer(debug_response_assistant_n)"
   ]
  },
  {
   "cell_type": "code",
   "execution_count": 34,
   "id": "f669449c",
   "metadata": {},
   "outputs": [
    {
     "name": "stdout",
     "output_type": "stream",
     "text": [
      "Here is the input:\n",
      "'Here is your user profile {\"Rashi\": \"high\", \"Gender\": \"medium\", \"Age\": \"high\", \"Color\": \"high\", \"Lifestyle\": \"low\", \"Budget\": \"10000\"}'\n",
      "\n",
      "The extracted dictionary from the input is:\n",
      "{\"Rashi\": \"high\", \"Gender\": \"medium\", \"Age\": \"high\", \"Color\": \"high\", \"Lifestyle\": \"low\", \"Budget\": \"10000\"}\n",
      "\n",
      "Is there anything else I can assist you with?\n"
     ]
    }
   ],
   "source": [
    "def dictionary_present(response):\n",
    "    delimiter = \"####\"\n",
    "    user_req = {'Rashi': 'high','Gender': 'high','Age': 'high','Color':'high','Lifestyle':'low','Budget': '5000'}\n",
    "    prompt = f\"\"\"You are a Sales person. You are provided an input.\n",
    "        You have to check if there is a python dictionary present in the string.\n",
    "        It will have the following format {user_req}.\n",
    "        Your task is to just extract and return only the python dictionary from the input.\n",
    "        The output should match the format as {user_req}.\n",
    "        The output should contain the exact keys and values as present in the input.\n",
    "\n",
    "        Here are some sample input output pairs for better understanding:\n",
    "        {delimiter}\n",
    "        input: - 'Rashi': 'high', 'Gender': 'medium', 'Age': 'high', 'Color': 'high', 'Lifestyle': 'low', 'Budget': '7000'\n",
    "        output: {{'Rashi': 'high', 'Gender': 'medium', 'Age': 'high', 'Color': 'high', 'Lifestyle': 'low', 'Budget': '7000'}}\n",
    "\n",
    "        input: {{'Rashi': 'high',   'Gender': 'medium',   'Age': 'high',   'Color': 'high',    'Lifestyle': 'low',   'Budget': '7000'}}\n",
    "        output: {{'Rashi': 'high', 'Gender': 'medium', 'Age': 'high', 'Color': 'high', 'Lifestyle': 'low', 'Budget': '9000'}}\n",
    "\n",
    "        input: Here is your user profile 'Rashi': 'high', 'Gender': 'medium', 'Age': 'high', 'Color': 'high', 'Lifestyle': 'low', 'Budget': '10000'\n",
    "        output: {{'Rashi': 'high', 'Gender': 'medium', 'Age': 'high', 'Color': 'high', 'Lifestyle': 'low', 'Budget': '10000'}}\n",
    "        {delimiter}\n",
    "\n",
    "        Here is the input {response}\n",
    "\n",
    "        \"\"\"\n",
    "\n",
    "    response = openai.ChatCompletion.create(\n",
    "        model=\"gpt-3.5-turbo\",\n",
    "        messages=[\n",
    "            {\"role\": \"system\", \"content\": \"You are a sales person.\"},\n",
    "            {\"role\": \"user\", \"content\": prompt}\n",
    "        ]\n",
    "    )\n",
    "    return response[\"choices\"][0][\"message\"][\"content\"]\n",
    "\n",
    "response_dict_n = dictionary_present(debug_response_assistant_n)\n",
    "print(response_dict_n)"
   ]
  },
  {
   "cell_type": "code",
   "execution_count": 37,
   "id": "5ac42a17",
   "metadata": {},
   "outputs": [],
   "source": [
    "debug_response_assistant_n = f\"\"\"Thank you for providing your budget. Based on your budget of 10000 $, I will consider this while recommending suitable gemstone options for you.\n",
    "Here is the final recommendation for your gemstone:\n",
    "\n",
    "- Rashi: high\n",
    "- Gender: low\n",
    "- Age: high\n",
    "- Color: high\n",
    "- Lifestyle: medium\n",
    "- Budget: 10000 $\n",
    "\n",
    "Please note that these specifications are based on your requirements for driving and a city drive with great mileage within your budget. Let me know if there's anything else I can assist you with!\"\"\""
   ]
  },
  {
   "cell_type": "code",
   "execution_count": 38,
   "id": "bc31c898",
   "metadata": {},
   "outputs": [
    {
     "name": "stdout",
     "output_type": "stream",
     "text": [
      "{'Rashi': 'high', 'Gender': 'low', 'Age': 'high', 'Color': 'high', 'Lifestyle': 'medium', 'Budget': '10000 $'}\n"
     ]
    }
   ],
   "source": [
    "response_dict_n = dictionary_present(debug_response_assistant_n)\n",
    "print(response_dict_n)"
   ]
  },
  {
   "cell_type": "code",
   "execution_count": 60,
   "id": "e77480e9",
   "metadata": {},
   "outputs": [],
   "source": [
    "debug_conversation = initialize_conversation()\n",
    "debug_introduction = get_chat_model_completions(debug_conversation)\n",
    "debug_user_input = \"Hi, I am Ashish. I need a gemstone.\"\n",
    "debug_moderation = moderation_check(debug_user_input)\n",
    "debug_conversation.append({\"role\": \"user\", \"content\": debug_user_input})\n",
    "debug_response_assistant = get_chat_model_completions(debug_conversation)\n",
    "debug_moderation = moderation_check(debug_response_assistant)\n",
    "debug_conversation.append({\"role\": \"assistant\", \"content\": debug_response_assistant})\n",
    "debug_confirmation = intent_confirmation_layer(debug_response_assistant)\n",
    "response_dict_n = dictionary_present(debug_response_assistant_n)"
   ]
  },
  {
   "cell_type": "markdown",
   "id": "9adb2375",
   "metadata": {},
   "source": [
    "Implementing the Product Mapping and Information Extraction Layers"
   ]
  },
  {
   "cell_type": "code",
   "execution_count": 87,
   "id": "52f5a0e4",
   "metadata": {},
   "outputs": [],
   "source": [
    "def product_map_layer(gemstone_desc):\n",
    "\n",
    "  delimiter = \"#####\"\n",
    " \n",
    "  gemstone_spec = {\n",
    "    \"Rashi\": \"(Zodiac sign compatibility)\",\n",
    "    \"Gender\": \"(Male, Female, Unisex)\",\n",
    "    \"Age\": \"(Suitable age range)\",\n",
    "    \"Color\": \"(Variety of colors available)\",\n",
    "    \"Lifestyle\": \"(Active, Artistic,Professional,Urban,Outdoor,Homebody)\",\n",
    "   \n",
    "}\n",
    "\n",
    "  values = {'low','medium','high'}\n",
    "\n",
    "  prompt=f\"\"\"\n",
    "  You are a Gemstone sales person whose job is to pitch the key features of gemstone as per their requirements.\n",
    "  To analyze each gemstone, perform the following steps:\n",
    "  Step 1: Extract the gemstone's primary features from the description {gemstone_desc}\n",
    "  Step 2: Store the extracted features in {gemstone_spec} \\\n",
    "  Step 3: Classify each of the items in {gemstone_spec}into {values} based on the following rules: \\\n",
    "  \n",
    "  {delimiter}\n",
    "  Rashi: low: < for minimal influence on specific zodiac signs >, \\\\n\n",
    "  medium: < for a balanced influence on various zodiac signs > , \\\\n\n",
    "  high: < for a strong positive influence on specific zodiac signs > , \\\\n \n",
    "\n",
    "  Gender :low: < for a general appeal to both genders > , \\\\n\n",
    "  medium:< for a balanced appeal to both genders > , \\\\n\n",
    "  high:< for a strong appeal to a specific gender > , \\\\n\n",
    "\n",
    "  Age:low: < for a wide age range > , \\\\n\n",
    "  medium:< for a moderate age range > , \\\\n\n",
    "  high: < for a specific age group > , \\\\n\n",
    "\n",
    "  Color:low: < for a subtle or neutral color range > , \\\\n\n",
    "  medium: < for a versatile color range suitable for various occasions > , \\\\n\n",
    "  high: < for a vibrant and bold color range > ,\\\\n\n",
    "\n",
    "  Lifestyle:low: < for a gemstone suitable for everyday wear > , \\\\n\n",
    "  medium: < for a gemstone suitable for both casual and formal occasions > , \\\\n\n",
    "  high:< for a gemstone ideal for special and formal occasions > , \\\\n\n",
    "\n",
    " \n",
    "  {delimiter}\n",
    "\n",
    "  {delimiter}\n",
    "  Here are some input output pairs for few-shot learning:\n",
    "    \n",
    "  input1: \"This gemstone is tailored for individuals born under the Virgo zodiac sign. It offers moderate alignment benefits and is suitable for both men and women. With a range of colors, it complements various styles and occasions. Priced at 5000 it provides an affordable option for those seeking zodiac-specific gemstones.\"\n",
    "  output1: {{'Rashi': 'medium', 'Gender': 'medium', 'Age': 'medium', 'Color': 'medium', 'Lifestyle': 'medium', 'Budget': '5000'}}\n",
    "\n",
    "  input2: \"A versatile gemstone designed for individuals of all zodiac signs. It provides balanced energy alignment, making it suitable for both genders. Available in a variety of colors, it adapts to different styles and occasions. Priced at 7500, it offers a universal and inclusive option for gemstone enthusiasts.\"\n",
    "  output2: {{'Rashi': 'medium', 'Gender': 'medium', 'Age': 'medium', 'Color': 'high', 'Lifestyle': 'medium', 'Budget': '7500'}}\n",
    "\n",
    "  input3: \"An exclusive gemstone crafted for those seeking precise zodiac compatibility. It offers powerful alignment benefits for specific zodiac signs and is suitable for both men and women. With a rare color range, it caters to unique preferences. Priced at 14000, it represents a premium choice for discerning gemstone connoisseurs.\"\n",
    "  output3: {{'Rashi': 'high', 'Gender': 'high', 'Age': 'medium', 'Color': 'high', 'Lifestyle': 'high', 'Budget': '14000'}}\n",
    "\n",
    "  \n",
    "  \n",
    "  \n",
    "  {delimiter}\n",
    "\n",
    "  Follow the above instructions step-by-step and output the dictionary {gemstone_spec} for the following laptop {gemstone_desc}.\n",
    "  \"\"\"\n",
    "\n",
    "\n",
    "\n",
    "  response = openai.Completion.create(\n",
    "    model=\"gpt-3.5-turbo-instruct\",\n",
    "    prompt=prompt,\n",
    "    max_tokens = 2000\n",
    "    \n",
    ")\n",
    "  return  response[\"choices\"][0][\"text\"]"
   ]
  },
  {
   "cell_type": "code",
   "execution_count": 88,
   "id": "87c9e588",
   "metadata": {},
   "outputs": [
    {
     "name": "stdout",
     "output_type": "stream",
     "text": [
      "Index(['Rashi', 'Gemstone', 'Weight (carats)', 'Price ($)', 'Color', 'Clarity',\n",
      "       'Hardness', 'Cut', 'Origin', 'Treatments', 'Age Group', 'Gender',\n",
      "       'Budget Range ($)', 'Style', 'Lifestyle', 'Recommendation Score',\n",
      "       'Description', 'Unnamed: 17', 'Unnamed: 18', 'Unnamed: 19',\n",
      "       'Unnamed: 20', 'gemstone_feature'],\n",
      "      dtype='object')\n"
     ]
    }
   ],
   "source": [
    "print(gemstone_df.columns)"
   ]
  },
  {
   "cell_type": "code",
   "execution_count": 89,
   "id": "d30d40d5",
   "metadata": {},
   "outputs": [],
   "source": [
    "gemstone_df['gemstone_feature'] = gemstone_df['Description'].apply(lambda x: product_map_layer(x))"
   ]
  },
  {
   "cell_type": "code",
   "execution_count": 90,
   "id": "9d25d0b4",
   "metadata": {},
   "outputs": [
    {
     "data": {
      "text/plain": [
       "0     \\n{'Rashi': 'low', 'Gender': 'medium', 'Age': ...\n",
       "1     \\n  {'Rashi': 'medium', 'Gender': 'medium', 'A...\n",
       "2     \\n  Output: \\n  {'Rashi': 'low', 'Gender': 'un...\n",
       "3     \\n  {'Rashi': 'low', 'Gender': 'unisex', 'Age'...\n",
       "4     \\nOutput: {'Rashi': 'low', 'Gender': 'medium',...\n",
       "5     \\n  {'Rashi': 'low', 'Gender': 'medium', 'Age'...\n",
       "6     output:{'Rashi': 'low', 'Gender': 'unisex', 'A...\n",
       "7     \\n  {'Rashi': 'low', 'Gender': 'medium', 'Age'...\n",
       "8     \\n  {'Rashi': 'high', 'Gender': 'unisex', 'Age...\n",
       "9     \\n{'Rashi': 'high', 'Gender': 'unisex', 'Age':...\n",
       "10    \\n  Output: {'Rashi': 'low', 'Gender': 'unisex...\n",
       "11    \\n  {'Rashi': 'medium', 'Gender': 'medium', 'A...\n",
       "12    \\n\\n{'Rashi': 'low', 'Gender': 'low', 'Age': '...\n",
       "13    \\n  {'Rashi': 'low', 'Gender': 'low', 'Age': '...\n",
       "14    \\n  {'Rashi': 'low', 'Gender': 'medium', 'Age'...\n",
       "15    \\nOutput: {'Rashi': 'medium', 'Gender': 'low',...\n",
       "16    \\n{'Rashi': 'low', 'Gender': 'low', 'Age': 'wi...\n",
       "17    \\n{'Rashi': 'low', 'Gender': 'low', 'Age': 'lo...\n",
       "18    \\n  {'Rashi': 'medium', 'Gender': 'medium', 'A...\n",
       "19     {'Rashi': 'medium', 'Gender': 'medium', 'Age'...\n",
       "20    \\n  {'Rashi': 'low', 'Gender': 'low', 'Age': '...\n",
       "21    \\n  {'Rashi': 'medium', 'Gender': 'medium', 'A...\n",
       "22    \\n  Output: {'Rashi': 'low', 'Gender': 'unisex...\n",
       "23    \\n {'Rashi': 'medium', 'Gender': 'medium', 'Ag...\n",
       "24    \\n\\n{'Rashi': 'non-applicable', 'Gender': 'uni...\n",
       "Name: gemstone_feature, dtype: object"
      ]
     },
     "execution_count": 90,
     "metadata": {},
     "output_type": "execute_result"
    }
   ],
   "source": [
    "gemstone_df['gemstone_feature']"
   ]
  },
  {
   "cell_type": "code",
   "execution_count": 91,
   "id": "99e5e377",
   "metadata": {},
   "outputs": [],
   "source": [
    "gemstone_df.to_csv(r\"C:\\Users\\parul\\OneDrive\\Documents\\GenAI\\ShopAssist AI\\Project_BYOP\\updated_gemstones.csv\", index=False, header=True)\n"
   ]
  },
  {
   "cell_type": "code",
   "execution_count": 92,
   "id": "8a22f4a1",
   "metadata": {},
   "outputs": [],
   "source": [
    "import ast\n",
    "import re\n",
    "\n",
    "def extract_dictionary_from_string(string):\n",
    "    regex_pattern = r\"\\{[^{}]+\\}\"\n",
    "\n",
    "    dictionary_matches = re.findall(regex_pattern, string)\n",
    "\n",
    "    # Extract the first dictionary match and convert it to lowercase\n",
    "    if dictionary_matches:\n",
    "        dictionary_string = dictionary_matches[0]\n",
    "        dictionary_string = dictionary_string.lower()\n",
    "\n",
    "        # Convert the dictionary string to a dictionary object using ast.literal_eval()\n",
    "        dictionary = ast.literal_eval(dictionary_string)\n",
    "    return dictionary"
   ]
  },
  {
   "cell_type": "code",
   "execution_count": 93,
   "id": "a90dddee",
   "metadata": {},
   "outputs": [
    {
     "name": "stdout",
     "output_type": "stream",
     "text": [
      "{'rashi': 'medium', 'gender': 'medium', 'age': 'medium', 'color': 'high', 'lifestyle': 'medium', 'budget': '7500'}\n"
     ]
    }
   ],
   "source": [
    "string = \" \\n \\t           Output: {{'Rashi': 'medium', 'Gender': 'medium', 'Age': 'medium', 'Color': 'high', 'Lifestyle': 'medium', 'Budget': '7500'}}ad\"\n",
    "extracted_dict = extract_dictionary_from_string(string)\n",
    "print(extracted_dict)"
   ]
  },
  {
   "cell_type": "code",
   "execution_count": 112,
   "id": "e6f3ccc4",
   "metadata": {},
   "outputs": [],
   "source": [
    "import pandas as pd\n",
    "import re\n",
    "\n",
    "def extract_numeric_value(value):\n",
    "    numeric_values = re.findall(r'\\d+\\.\\d+|\\d+', str(value))\n",
    "    return float(numeric_values[0]) if numeric_values else 0\n",
    "\n",
    "def compare_gemstones_with_user(user_req_string):\n",
    "    gemstone_df = pd.read_csv(r'C:\\Users\\parul\\OneDrive\\Documents\\GenAI\\ShopAssist AI\\Project_BYOP\\updated_gemstones.csv')\n",
    "    user_requirements = extract_dictionary_from_string(user_req_string)\n",
    "    budget = int(user_requirements.get('budget',0).replace(',', '').split()[0])\n",
    "    filtered_gemstones = gemstone_df.copy()\n",
    "    filtered_gemstones['Price ($)'] = filtered_gemstones['Price ($)'].apply(extract_numeric_value)\n",
    "    filtered_gemstones = filtered_gemstones[filtered_gemstones['Price ($)'] <= budget].copy()\n",
    " \n",
    "       \n",
    "    mappings = {\n",
    "        'low': 0,\n",
    "        'medium': 1,\n",
    "        'high': 2\n",
    "    }\n",
    "\n",
    "   \n",
    "    filtered_gemstones['Score'] = 0\n",
    "\n",
    "   \n",
    "    for index, row in filtered_gemstones.iterrows():\n",
    "        user_product_match_str = row['gemstone_feature']\n",
    "        gemstone_values = extract_dictionary_from_string(user_product_match_str)\n",
    "        score = 0\n",
    "\n",
    "        for key, user_value in extract_dictionary_from_string(user_req_string).items():\n",
    "            if key.lower() == 'budget':\n",
    "                continue  \n",
    "            gemstone_value = gemstone_values.get(key, None)\n",
    "            gemstone_mapping = mappings.get(gemstone_value.lower(), -1)\n",
    "            user_mapping = mappings.get(user_value.lower(), -1)\n",
    "            if gemstone_mapping >= user_mapping:\n",
    "                score += 1\n",
    "\n",
    "        filtered_gemstones.loc[index, 'Score'] = score\n",
    "\n",
    "    \n",
    "    top_gemstones = filtered_gemstones.drop('gemstone_feature', axis=1)\n",
    "    top_gemstones = top_gemstones.sort_values('Score', ascending=False).head(3)\n",
    "\n",
    "    return top_gemstones.to_json(orient='records')\n",
    "\n",
    "\n",
    "\n"
   ]
  },
  {
   "cell_type": "code",
   "execution_count": 113,
   "id": "1adea384",
   "metadata": {},
   "outputs": [
    {
     "name": "stdout",
     "output_type": "stream",
     "text": [
      "{'Rashi': 'high', 'Gender': 'low', 'Age': 'high', 'Color': 'high', 'Lifestyle': 'medium', 'Budget': '10000'}\n"
     ]
    }
   ],
   "source": [
    "print(response_dict_n)"
   ]
  },
  {
   "cell_type": "code",
   "execution_count": 114,
   "id": "1e3088db",
   "metadata": {},
   "outputs": [
    {
     "name": "stdout",
     "output_type": "stream",
     "text": [
      "[{\"Rashi\":\"Libra\",\"Gemstone\":\"Opal\",\"Weight (carats)\":1.8,\"Price ($)\":3800.0,\"Color\":\"Multicolor\",\"Clarity\":\"A\",\"Hardness\":\"5.5-6.5\",\"Cut\":\"Cabochon\",\"Origin\":\"Australia\",\"Treatments\":\"None\",\"Age Group\":\"25-35\",\"Gender\":\"Male\",\"Budget Range ($)\":\"3500-10000\",\"Style\":\"Classic\",\"Lifestyle\":\"Active\",\"Recommendation Score\":0.8,\"Description\":\"The iridescent opal,with its play of colors,symbolizes creativity, inspiration,and emotional healing.\",\"Unnamed: 17\":\" \",\"Unnamed: 18\":\" \",\"Unnamed: 19\":null,\"Unnamed: 20\":\" \",\"Score\":3},{\"Rashi\":\"Aries\",\"Gemstone\":\"Ruby\",\"Weight (carats)\":2.5,\"Price ($)\":3000.0,\"Color\":\"Red\",\"Clarity\":\"VVS1\",\"Hardness\":\"9\",\"Cut\":\"Oval\",\"Origin\":\"Myanmar\",\"Treatments\":\"Heat\",\"Age Group\":\"25-35\",\"Gender\":\"Female\",\"Budget Range ($)\":\"3000-8000\",\"Style\":\"Vintage\",\"Lifestyle\":\"Artistic\",\"Recommendation Score\":0.7,\"Description\":\"The vibrant red ruby  associated with passion and strength  is believed to bring good fortune.\",\"Unnamed: 17\":null,\"Unnamed: 18\":null,\"Unnamed: 19\":null,\"Unnamed: 20\":null,\"Score\":3},{\"Rashi\":\"Aquarius\",\"Gemstone\":\"Garnet\",\"Weight (carats)\":1.9,\"Price ($)\":3200.0,\"Color\":\"Red\",\"Clarity\":\"SI2\",\"Hardness\":\"6.5-7.5\",\"Cut\":\"Princess\",\"Origin\":\"Mozambique\",\"Treatments\":\"None\",\"Age Group\":\"30-40\",\"Gender\":\"Male\",\"Budget Range ($)\":\"3000-8000\",\"Style\":\"Bohemian\",\"Lifestyle\":\"Outdoor\",\"Recommendation Score\":0.7,\"Description\":\"The deep red garnet,symbolizing love and commitment, is believed to inspire passion and devotion.\",\"Unnamed: 17\":\" \",\"Unnamed: 18\":null,\"Unnamed: 19\":null,\"Unnamed: 20\":null,\"Score\":3}]\n"
     ]
    }
   ],
   "source": [
    "#response_dict_n = \"User's requirements string here\"\n",
    "top_3_gemstones = compare_gemstones_with_user(response_dict_n)\n",
    "print(top_3_gemstones)"
   ]
  },
  {
   "cell_type": "code",
   "execution_count": 115,
   "id": "4444f7b0",
   "metadata": {},
   "outputs": [],
   "source": [
    "def recommendation_validation(gemstone_recommendation):\n",
    "    data = json.loads(gemstone_recommendation)\n",
    "    validated_gemstones = []\n",
    "\n",
    "    for gemstone in data:\n",
    "        if gemstone.get('Score', 0) > 2:\n",
    "            validated_gemstones.append(gemstone)\n",
    "\n",
    "    return validated_gemstones\n"
   ]
  },
  {
   "cell_type": "code",
   "execution_count": 116,
   "id": "d0de8b82",
   "metadata": {},
   "outputs": [
    {
     "name": "stdout",
     "output_type": "stream",
     "text": [
      "[{'Rashi': 'Libra', 'Gemstone': 'Opal', 'Weight (carats)': 1.8, 'Price ($)': 3800.0, 'Color': 'Multicolor', 'Clarity': 'A', 'Hardness': '5.5-6.5', 'Cut': 'Cabochon', 'Origin': 'Australia', 'Treatments': 'None', 'Age Group': '25-35', 'Gender': 'Male', 'Budget Range ($)': '3500-10000', 'Style': 'Classic', 'Lifestyle': 'Active', 'Recommendation Score': 0.8, 'Description': 'The iridescent opal,with its play of colors,symbolizes creativity, inspiration,and emotional healing.', 'Unnamed: 17': ' ', 'Unnamed: 18': ' ', 'Unnamed: 19': None, 'Unnamed: 20': ' ', 'Score': 3}, {'Rashi': 'Aries', 'Gemstone': 'Ruby', 'Weight (carats)': 2.5, 'Price ($)': 3000.0, 'Color': 'Red', 'Clarity': 'VVS1', 'Hardness': '9', 'Cut': 'Oval', 'Origin': 'Myanmar', 'Treatments': 'Heat', 'Age Group': '25-35', 'Gender': 'Female', 'Budget Range ($)': '3000-8000', 'Style': 'Vintage', 'Lifestyle': 'Artistic', 'Recommendation Score': 0.7, 'Description': 'The vibrant red ruby  associated with passion and strength  is believed to bring good fortune.', 'Unnamed: 17': None, 'Unnamed: 18': None, 'Unnamed: 19': None, 'Unnamed: 20': None, 'Score': 3}, {'Rashi': 'Aquarius', 'Gemstone': 'Garnet', 'Weight (carats)': 1.9, 'Price ($)': 3200.0, 'Color': 'Red', 'Clarity': 'SI2', 'Hardness': '6.5-7.5', 'Cut': 'Princess', 'Origin': 'Mozambique', 'Treatments': 'None', 'Age Group': '30-40', 'Gender': 'Male', 'Budget Range ($)': '3000-8000', 'Style': 'Bohemian', 'Lifestyle': 'Outdoor', 'Recommendation Score': 0.7, 'Description': 'The deep red garnet,symbolizing love and commitment, is believed to inspire passion and devotion.', 'Unnamed: 17': ' ', 'Unnamed: 18': None, 'Unnamed: 19': None, 'Unnamed: 20': None, 'Score': 3}]\n"
     ]
    }
   ],
   "source": [
    "\n",
    "validated_gemstones = recommendation_validation(top_3_gemstones)\n",
    "print(validated_gemstones)\n"
   ]
  },
  {
   "cell_type": "code",
   "execution_count": 117,
   "id": "c5040b78",
   "metadata": {},
   "outputs": [
    {
     "data": {
      "text/plain": [
       "3"
      ]
     },
     "execution_count": 117,
     "metadata": {},
     "output_type": "execute_result"
    }
   ],
   "source": [
    "len(validated_gemstones)"
   ]
  },
  {
   "cell_type": "code",
   "execution_count": 118,
   "id": "7f782643",
   "metadata": {
    "scrolled": true
   },
   "outputs": [],
   "source": [
    "def initialize_conv_reco(products):\n",
    "    system_message = f\"\"\"\n",
    "    You are an expert gemstone sales person and you are tasked with the objective to \\\n",
    "    provide details of the gemstone from the catalogue: {products}.\\\n",
    "    You should keep the user profile in mind while answering the questions.\\\n",
    "\n",
    "    Start with a brief summary of each gemstone in the following format, in decreasing order of price of gemstones:\n",
    "    1. <Gemstone Name>: <Key features of the gemstone>, <Price in $>\n",
    "    2. <Gemstone Name>: <Key features of the gemstone>, <Price in $>\n",
    "\n",
    "    \"\"\"\n",
    "    conversation = [{\"role\": \"system\", \"content\": system_message }]\n",
    "    return conversation"
   ]
  },
  {
   "cell_type": "code",
   "execution_count": 119,
   "id": "3ec28bbf",
   "metadata": {},
   "outputs": [],
   "source": [
    "debug_conversation_reco = initialize_conv_reco(top_3_gemstones)"
   ]
  },
  {
   "cell_type": "code",
   "execution_count": 120,
   "id": "2af000e4",
   "metadata": {},
   "outputs": [
    {
     "name": "stdout",
     "output_type": "stream",
     "text": [
      "Gemstone Catalogue:\n",
      "\n",
      "1. Opal: The iridescent opal, with its play of colors, symbolizes creativity, inspiration, and emotional healing. It has a weight of 1.8 carats and is priced at $3800. It is multicolored and has a clarity of A. The opal has a hardness of 5.5-6.5 and is cut in a cabochon style. It originates from Australia and has no treatments. It is recommended for individuals in the age group of 25-35, specifically males with a budget range of $3500-10000. The opal is a classic gemstone suitable for an active lifestyle. The recommendation score for this gemstone is 0.8.\n",
      "\n",
      "2. Ruby: The vibrant red ruby is associated with passion and strength and is believed to bring good fortune. It has a weight of 2.5 carats and is priced at $3000. The ruby has a color of red and a clarity of VVS1. It has a hardness of 9 and is cut in an oval shape. The ruby originates from Myanmar and has undergone heat treatment. It is recommended for individuals in the age group of 25-35, specifically females with a budget range of $3000-8000. The ruby is a vintage gemstone suitable for an artistic lifestyle. The recommendation score for this gemstone is 0.7.\n",
      "\n",
      "3. Garnet: The deep red garnet symbolizes love and commitment and is believed to inspire passion and devotion. It has a weight of 1.9 carats and is priced at $3200. The garnet has a color of red and a clarity of SI2. It has a hardness of 6.5-7.5 and is cut in a princess style. The garnet originates from Mozambique and has no treatments. It is recommended for individuals in the age group of 30-40, specifically males with a budget range of $3000-8000. The garnet is a bohemian gemstone suitable for an outdoor lifestyle. The recommendation score for this gemstone is 0.7.\n",
      "\n"
     ]
    }
   ],
   "source": [
    "debug_recommendation = get_chat_model_completions(debug_conversation_reco)\n",
    "print(debug_recommendation + '\\n')"
   ]
  },
  {
   "cell_type": "code",
   "execution_count": 121,
   "id": "d3abd7b8",
   "metadata": {},
   "outputs": [],
   "source": [
    "debug_conversation_reco.append({\"role\": \"user\", \"content\": \"This is my user profile\" + response_dict_n})\n",
    "debug_conversation_reco.append({\"role\": \"assistant\", \"content\": debug_recommendation})"
   ]
  },
  {
   "cell_type": "code",
   "execution_count": 124,
   "id": "2509e020",
   "metadata": {},
   "outputs": [],
   "source": [
    "debug_user_input = \"Which is ideal for good fortune?\""
   ]
  },
  {
   "cell_type": "code",
   "execution_count": 125,
   "id": "513ec063",
   "metadata": {},
   "outputs": [
    {
     "name": "stdout",
     "output_type": "stream",
     "text": [
      "\n",
      "The gemstone ideal for good fortune is Ruby. It is believed to bring good fortune and is associated with passion and strength.\n",
      "\n"
     ]
    }
   ],
   "source": [
    "debug_conversation_reco.append({\"role\": \"user\", \"content\": debug_user_input})\n",
    "debug_response_asst_reco = get_chat_model_completions(debug_conversation_reco)\n",
    "print('\\n' + debug_response_asst_reco + '\\n')"
   ]
  },
  {
   "cell_type": "markdown",
   "id": "02dfa370",
   "metadata": {},
   "source": [
    "Dialogue Management System"
   ]
  },
  {
   "cell_type": "code",
   "execution_count": 126,
   "id": "ef79d674",
   "metadata": {},
   "outputs": [],
   "source": [
    "def dialogue_mgmt_system():\n",
    "    conversation = initialize_conversation()\n",
    "    introduction = get_chat_model_completions(conversation)\n",
    "    print(introduction + '\\n')\n",
    "    top_3_cars = None\n",
    "    user_input = ''\n",
    "\n",
    "    while(user_input != \"exit\"):\n",
    "        user_input = input(\"\")\n",
    "\n",
    "        moderation = moderation_check(user_input)\n",
    "        if moderation == 'Flagged':\n",
    "            print(\"Sorry, this message has been flagged. Please restart your conversation.\")\n",
    "            break\n",
    "\n",
    "        if top_3_gemstones is None:\n",
    "            conversation.append({\"role\": \"user\", \"content\": user_input})\n",
    "\n",
    "            response_assistant = get_chat_model_completions(conversation)\n",
    "\n",
    "            moderation = moderation_check(response_assistant)\n",
    "            if moderation == 'Flagged':\n",
    "                print(\"Sorry, this message has been flagged. Please restart your conversation.\")\n",
    "                break\n",
    "\n",
    "            confirmation = intent_confirmation_layer(response_assistant)\n",
    "\n",
    "            moderation = moderation_check(confirmation)\n",
    "            if moderation == 'Flagged':\n",
    "                print(\"Sorry, this message has been flagged. Please restart your conversation.\")\n",
    "                break\n",
    "\n",
    "            if \"No\" in confirmation:\n",
    "                conversation.append({\"role\": \"assistant\", \"content\": response_assistant})\n",
    "                print(\"\\n\" + response_assistant + \"\\n\")\n",
    "                print('\\n' + confirmation + '\\n')\n",
    "            else:\n",
    "                print(\"\\n\" + response_assistant + \"\\n\")\n",
    "                print('\\n' + confirmation + '\\n')\n",
    "                response = dictionary_present(response_assistant)\n",
    "\n",
    "                moderation = moderation_check(response)\n",
    "                if moderation == 'Flagged':\n",
    "                    print(\"Sorry, this message has been flagged. Please restart your conversation.\")\n",
    "                    break\n",
    "\n",
    "                print('\\n' + response + '\\n')\n",
    "                print(\"Thank you for providing all the information. Kindly wait, while I fetch the products: \\n\")\n",
    "                top_3_gemstones = compare_gemstones_with_user(response)\n",
    "\n",
    "                validated_reco = recommendation_validation(top_3_gemstones)\n",
    "\n",
    "                if len(validated_reco) == 0:\n",
    "                    print(\"Sorry, we do not have gemstones that match your requirements. Connecting you to a human expert.\")\n",
    "                    break\n",
    "\n",
    "                conversation_reco = initialize_conv_reco(validated_reco)\n",
    "                recommendation = get_chat_model_completions(conversation_reco)\n",
    "\n",
    "                moderation = moderation_check(recommendation)\n",
    "                if moderation == 'Flagged':\n",
    "                    print(\"Sorry, this message has been flagged. Please restart your conversation.\")\n",
    "                    break\n",
    "\n",
    "                conversation_reco.append({\"role\": \"user\", \"content\": \"This is my user profile\" + response})\n",
    "\n",
    "                conversation_reco.append({\"role\": \"assistant\", \"content\": recommendation})\n",
    "\n",
    "                print(recommendation + '\\n')\n",
    "\n",
    "        else:\n",
    "            conversation_reco.append({\"role\": \"user\", \"content\": user_input})\n",
    "\n",
    "            response_asst_reco = get_chat_model_completions(conversation_reco)\n",
    "\n",
    "            moderation = moderation_check(response_asst_reco)\n",
    "            if moderation == 'Flagged':\n",
    "                print(\"Sorry, this message has been flagged. Please restart your conversation.\")\n",
    "                break\n",
    "\n",
    "            print('\\n' + response_asst_reco + '\\n')\n",
    "            conversation.append({\"role\": \"assistant\", \"content\": response_asst_reco})"
   ]
  },
  {
   "cell_type": "code",
   "execution_count": 138,
   "id": "fa334c61",
   "metadata": {},
   "outputs": [
    {
     "name": "stdout",
     "output_type": "stream",
     "text": [
      "{'rashi': 'libra', 'gender': 'values', 'age': 'values', 'color': 'high', 'lifestyle': 'values', 'budget': 4000}\n",
      "{'rashi': 'medium', 'gender': 'medium', 'age': 'medium', 'color': 'high', 'lifestyle': 'medium', 'budget': '5500'}\n"
     ]
    }
   ],
   "source": [
    "gemstone_special_conversation = [\n",
    "    {\"role\": \"assistant\", \"content\": \"Greetings! I'm a gemstone expert, and I'm here to help you find the perfect gemstone for your preferences. Could you share a bit about yourself and what you're looking for in a gemstone?\"},\n",
    "    {\"role\": \"user\", \"content\": \"Hello! I'm a person who loves unique gemstones. I'm specifically interested in a gemstone that reflects my zodiac sign (Libra) and can be a statement piece for special occasions.\"},\n",
    "    {\"role\": \"assistant\", \"content\": \"Fantastic! Unique gemstones that align with your zodiac sign can indeed be exquisite statement pieces. To narrow down the options, are there any particular colors or styles you find appealing?\"},\n",
    "    {\"role\": \"user\", \"content\": \"I'm drawn to deep blue and purple hues, and I prefer elegant and classic styles.\"},\n",
    "    {\"role\": \"assistant\", \"content\": \"Great choices! Deep blue and purple gemstones exude elegance. Now, considering your preferences, let's talk about your budget. What's your budget range for the gemstone you have in mind?\"},\n",
    "    {\"role\": \"user\", \"content\": \"I'm willing to spend around 4000 $.\"}\n",
    "]\n",
    "\n",
    "\n",
    "special_conversation_initialize = initialize_conversation()\n",
    "special_conversation_initialize.extend(gemstone_special_conversation)\n",
    "special_conversation_assistant_output = get_chat_model_completions(special_conversation_initialize)\n",
    "special_response_dict = dictionary_present(special_conversation_assistant_output)\n",
    "special_dict = extract_dictionary_from_string(special_response_dict)\n",
    "print(special_dict)\n",
    "\n",
    "special_tagged_dict={'rashi': 'medium', 'gender': 'medium', 'age': 'medium', 'color': 'high', 'lifestyle': 'medium', 'budget': '5500'}\n",
    "print(special_tagged_dict)"
   ]
  },
  {
   "cell_type": "code",
   "execution_count": 153,
   "id": "c5fa0467",
   "metadata": {},
   "outputs": [
    {
     "name": "stdout",
     "output_type": "stream",
     "text": [
      "{'rashi': 'high', 'gender': 'high', 'age': 'high', 'color': 'high', 'lifestyle': 'low', 'budget': '5000'}\n",
      "{'rashi': 'medium', 'gender': 'medium', 'age': 'medium', 'color': 'high', 'lifestyle': 'medium', 'budget': '9500'}\n"
     ]
    }
   ],
   "source": [
    "gemstone_academic_conversation = [\n",
    "    {\"role\": \"assistant\", \"content\": \"Hello! I'm a gemstone expert, and I'm here to help you find the perfect gemstone based on your preferences. Could you tell me a bit about yourself and what you're looking for in a gemstone?\"},\n",
    "    {\"role\": \"user\", \"content\": \"I'm an academic researcher, and I'm interested in buying a gemstone for personal and spiritual reasons.\"},\n",
    "    {\"role\": \"assistant\", \"content\": \"That's wonderful! Gemstones can have unique properties and meanings. Could you share more about the specific qualities you are seeking in a gemstone? For example, are you looking for a gemstone associated with a particular zodiac sign, or do you have a preference for certain colors or styles?\"},\n",
    "    {\"role\": \"user\", \"content\": \"I'm particularly interested in a gemstone that aligns with my zodiac sign (Taurus) and has calming energies.\"},\n",
    "    {\"role\": \"assistant\", \"content\": \"Great choice! Aligning with your zodiac sign and seeking calming energies are important criteria. Libra is associated with balance and harmony. Now, let's talk about colors. Are there specific colors that resonate with you or that you find calming?\"},\n",
    "    {\"role\": \"user\", \"content\": \"I find shades of blue and green very calming.\"},\n",
    "    {\"role\": \"assistant\", \"content\": \"Excellent choice! Blue and green gemstones are often associated with tranquility and balance. Now, considering your preferences, would you like a gemstone with a specific setting or design, or are you open to various styles?\"},\n",
    "    {\"role\": \"user\", \"content\": \"I prefer a simple and elegant design.\"},\n",
    "    {\"role\": \"assistant\", \"content\": \"Got it! A simple and elegant design is a timeless choice. Now, let's discuss your budget for the gemstone. What's your maximum budget in INR?\"},\n",
    "    {\"role\": \"user\", \"content\":\"I'm willing to spend around 7000 $\"}\n",
    "]\n",
    "\n",
    "\n",
    "\n",
    "academic_conversation_initialize = initialize_conversation()\n",
    "academic_conversation_initialize.extend(gemstone_academic_conversation)\n",
    "academic_conversation_assistant_output = get_chat_model_completions(academic_conversation_initialize)\n",
    "academic_response_dict = dictionary_present(academic_conversation_assistant_output)\n",
    "print(academic_response_dict)\n",
    "academic_dict = extract_dictionary_from_string(academic_response_dict)\n",
    "print(academic_dict)\n",
    "academic_tagged_dict = {'rashi': 'medium', 'gender': 'medium', 'age': 'medium', 'color': 'high', 'lifestyle': 'medium', 'budget': '9500'}\n",
    "print(academic_tagged_dict)"
   ]
  },
  {
   "cell_type": "code",
   "execution_count": 145,
   "id": "edf490d4",
   "metadata": {},
   "outputs": [
    {
     "name": "stdout",
     "output_type": "stream",
     "text": [
      "{'rashi': 'sagittarius', 'gender': 'values', 'age': 'values', 'color': 'blue', 'lifestyle': 'values', 'budget': 6000}\n",
      "{'rashi': 'high', 'gender': 'medium', 'age': 'medium', 'color': 'high', 'lifestyle': 'medium', 'budget': '5500'}\n"
     ]
    }
   ],
   "source": [
    "\n",
    "gemstone_astro_conversation = [\n",
    "    {\"role\": \"assistant\", \"content\": \"Hello! I'm a gemstone expert here to help you find the perfect gemstone. Can you tell me a bit about yourself and what you're looking for in a gemstone?\"},\n",
    "    {\"role\": \"user\", \"content\": \"I'm interested in getting a gemstone for its astrological benefits. I'm a Sagittarius, and I want something that brings positive energy.\"},\n",
    "    {\"role\": \"assistant\", \"content\": \"Great choice! Astrological considerations can add a meaningful touch to your gemstone selection. Are there specific colors or gemstone types you're drawn to, or do you have any preferences in terms of style?\"},\n",
    "    {\"role\": \"user\", \"content\": \"I like the idea of a blue gemstone, and I prefer something with a classic and elegant design.\"},\n",
    "    {\"role\": \"assistant\", \"content\": \"Got it! Blue gemstones can indeed be stunning, and a classic and elegant design adds to its charm. Now, let's talk about your budget. What's your budget range for the gemstone you're considering?\"},\n",
    "    {\"role\": \"user\", \"content\": \"I'm willing to spend around 6000 $.\"}\n",
    "]\n",
    "\n",
    "astro_conversation_initialize = initialize_conversation()\n",
    "astro_conversation_initialize.extend(gemstone_astro_conversation)\n",
    "astro_conversation_assistant_output = get_chat_model_completions(astro_conversation_initialize)\n",
    "astro_response_dict = dictionary_present(astro_conversation_assistant_output)\n",
    "astro_dict = extract_dictionary_from_string(astro_response_dict)\n",
    "print(astro_dict)\n",
    "\n",
    "astro_tagged_dict={'rashi': 'high', 'gender': 'medium', 'age': 'medium', 'color': 'high', 'lifestyle': 'medium', 'budget': '5500'}\n",
    "print(astro_tagged_dict)"
   ]
  },
  {
   "cell_type": "code",
   "execution_count": null,
   "id": "121c340a",
   "metadata": {},
   "outputs": [],
   "source": [
    "gemstone_good_fortune_conversation = [\n",
    "    {\"role\": \"assistant\", \"content\": \"Hello! I'm delighted to assist you in discovering a gemstone that brings good fortune. Could you share a bit about yourself and your preferences in gemstones?\"},\n",
    "    {\"role\": \"user\", \"content\": \"I'm seeking a gemstone for its positive energies and associations with good fortune.\"},\n",
    "    {\"role\": \"assistant\", \"content\": \"That's wonderful! Gemstones have unique properties, and finding one for positive energies is a great choice. To tailor the recommendations, could you specify if you have a zodiac sign preference or any specific colors that resonate with you?\"},\n",
    "    {\"role\": \"user\", \"content\": \"I'm a Aries, and I'm drawn to Red colors.\"},\n",
    "    {\"role\": \"assistant\", \"content\": \"Fantastic! Aries are often associated with vitality and warmth. Red colors can enhance those energies.Now, may I inquire about your age?\"},\n",
    "    {\"role\": \"user\", \"content\": \"I am 30 years old.\"},\n",
    "    {\"role\": \"assistant\", \"content\": \"To further personalize your gemstone recommendation, may I ask about your gender?\"},\n",
    "    {\"role\": \"user\", \"content\": \"I identify as Female\"},\n",
    "    {\"role\": \"assistant\", \"content\":\"Now, let's discuss your budget for the gemstone. What's your maximum budget in USD?\"},\n",
    "    {\"role\": \"user\", \"content\": \"I'm willing to invest around $10,000.\"},\n",
    "]\n",
    "\n",
    "good_fortune_conversation_initialize = initialize_conversation()\n",
    "good_fortune_conversation_initialize.extend(gemstone_good_fortune_conversation)\n",
    "good_fortune_conversation_assistant_output = get_chat_model_completions(good_fortune_conversation_initialize)\n",
    "good_fortune_response_dict = dictionary_present(good_fortune_conversation_assistant_output)\n",
    "print(good_fortune_response_dict)\n",
    "good_fortune_dict = extract_dictionary_from_string(good_fortune_response_dict)\n",
    "print(good_fortune_dict)\n",
    "\n",
    "good_fortune_tagged_dict={'rashi': 'high', 'gender': 'medium', 'age': 'medium', 'color': 'high', 'lifestyle': 'medium', 'budget': '7500'}\n",
    "print(good_fortune_tagged_dict)"
   ]
  },
  {
   "cell_type": "code",
   "execution_count": null,
   "id": "fd5aa818",
   "metadata": {},
   "outputs": [],
   "source": [
    "def evaluate_model_response(tagged_dict, model_dict):\n",
    "  score = 0\n",
    "  mappings = {\n",
    "      'low': 0,\n",
    "      'medium': 1,\n",
    "      'high': 2\n",
    "  }\n",
    "\n",
    "  for key in tagged_dict.keys():\n",
    "    if key.lower() == 'budget':\n",
    "      continue\n",
    "    tagged_value = tagged_dict[key]\n",
    "    model_value = model_dict[key]\n",
    "    tagged_mapping = mappings.get(tagged_value, -1)\n",
    "    model_mapping = mappings.get(model_value, -1)\n",
    "\n",
    "    if model_mapping >= tagged_mapping:\n",
    "        score += 1\n",
    "\n",
    "  return score"
   ]
  },
  {
   "cell_type": "code",
   "execution_count": 171,
   "id": "64aedd7a",
   "metadata": {},
   "outputs": [
    {
     "name": "stdout",
     "output_type": "stream",
     "text": [
      "1\n",
      "4\n",
      "0\n",
      "1\n"
     ]
    }
   ],
   "source": [
    "special_score = evaluate_model_response(special_tagged_dict,special_dict)\n",
    "print(special_score)\n",
    "academic_score = evaluate_model_response(academic_tagged_dict,academic_dict)\n",
    "print(academic_score)\n",
    "astro_score = evaluate_model_response(astro_tagged_dict,astro_dict)\n",
    "print(astro_score)\n",
    "good_fortune_score = evaluate_model_response(good_fortune_tagged_dict,good_fortune_dict)\n",
    "print(good_fortune_score)"
   ]
  },
  {
   "cell_type": "code",
   "execution_count": null,
   "id": "26c95abc",
   "metadata": {},
   "outputs": [],
   "source": []
  }
 ],
 "metadata": {
  "kernelspec": {
   "display_name": "Python 3 (ipykernel)",
   "language": "python",
   "name": "python3"
  },
  "language_info": {
   "codemirror_mode": {
    "name": "ipython",
    "version": 3
   },
   "file_extension": ".py",
   "mimetype": "text/x-python",
   "name": "python",
   "nbconvert_exporter": "python",
   "pygments_lexer": "ipython3",
   "version": "3.9.12"
  }
 },
 "nbformat": 4,
 "nbformat_minor": 5
}
